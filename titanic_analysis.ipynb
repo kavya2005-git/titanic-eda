{
 "cells": [
  {
   "cell_type": "code",
   "execution_count": null,
   "id": "55d43b10",
   "metadata": {},
   "outputs": [],
   "source": [
    "import pandas as pd       # for handling dataframes\n",
    "import numpy as np        # for numerical operations\n",
    "import matplotlib.pyplot as plt  # for basic plotting\n",
    "import seaborn as sns     # for beautiful graphs\n",
    "\n",
    "# Set plot style\n",
    "sns.set(style=\"darkgrid\")\n",
    "# Read the CSV file into a DataFrame\n",
    "df = pd.read_csv(\"train.csv\")\n",
    "\n",
    "# Display the first 5 rows\n",
    "df.head()\n",
    "\n"
   ]
  },
  {
   "cell_type": "code",
   "execution_count": null,
   "id": "c76c21cc",
   "metadata": {},
   "outputs": [],
   "source": [
    "# Shows column names, non-null counts, and data types\n",
    "df.info()"
   ]
  },
  {
   "cell_type": "code",
   "execution_count": null,
   "id": "a025d52b",
   "metadata": {},
   "outputs": [],
   "source": [
    "# Shows mean, min, max, etc., for numerical columns\n",
    "df.describe()\n"
   ]
  },
  {
   "cell_type": "code",
   "execution_count": null,
   "id": "bdb67e57",
   "metadata": {},
   "outputs": [],
   "source": [
    "# Shows how many null (missing) values each column has\n",
    "df.isnull().sum()\n"
   ]
  },
  {
   "cell_type": "code",
   "execution_count": null,
   "id": "22766668",
   "metadata": {},
   "outputs": [],
   "source": [
    "# Count of survived vs not survived\n",
    "sns.countplot(data=df,x='Survived')\n",
    "plt.title(\"Survival Count (0 = No, 1 = Yes)\")\n",
    "plt.show()"
   ]
  },
  {
   "cell_type": "code",
   "execution_count": null,
   "id": "a34418c6",
   "metadata": {},
   "outputs": [],
   "source": [
    "# Compare survival between male and female\n",
    "sns.countplot(data=df, x='Sex', hue='Survived')\n",
    "plt.title(\"Survival by Gender\")\n",
    "plt.show()"
   ]
  },
  {
   "cell_type": "code",
   "execution_count": null,
   "id": "e8e60994",
   "metadata": {},
   "outputs": [],
   "source": [
    "# Plot histogram of passenger ages\n",
    "plt.figure(figsize=(8,5))\n",
    "sns.histplot(df['Age'].dropna(), kde=True, bins=30)\n",
    "plt.title(\"Age Distribution\")\n",
    "plt.show()"
   ]
  },
  {
   "cell_type": "code",
   "execution_count": null,
   "id": "62e95e32",
   "metadata": {},
   "outputs": [],
   "source": [
    "# Survival rates by class\n",
    "sns.countplot(data=df, x='Pclass', hue='Survived')\n",
    "plt.title(\"Survival by Passenger Class\")\n",
    "plt.show()"
   ]
  },
  {
   "cell_type": "code",
   "execution_count": null,
   "id": "039cfda6",
   "metadata": {},
   "outputs": [],
   "source": [
    "# Compute correlation between numeric columns\n",
    "plt.figure(figsize=(10,6))\n",
    "sns.heatmap(df.corr(numeric_only=True), annot=True, cmap='coolwarm')\n",
    "plt.title(\"Feature Correlation\")\n",
    "plt.show()"
   ]
  },
  {
   "cell_type": "code",
   "execution_count": 21,
   "id": "710bbdca",
   "metadata": {},
   "outputs": [
    {
     "name": "stderr",
     "output_type": "stream",
     "text": [
      "C:\\Users\\KAVYA\\AppData\\Local\\Temp\\ipykernel_27908\\2787650442.py:2: FutureWarning: A value is trying to be set on a copy of a DataFrame or Series through chained assignment using an inplace method.\n",
      "The behavior will change in pandas 3.0. This inplace method will never work because the intermediate object on which we are setting values always behaves as a copy.\n",
      "\n",
      "For example, when doing 'df[col].method(value, inplace=True)', try using 'df.method({col: value}, inplace=True)' or df[col] = df[col].method(value) instead, to perform the operation inplace on the original object.\n",
      "\n",
      "\n",
      "  df['Age'].fillna(df['Age'].median(), inplace=True)\n",
      "C:\\Users\\KAVYA\\AppData\\Local\\Temp\\ipykernel_27908\\2787650442.py:5: FutureWarning: A value is trying to be set on a copy of a DataFrame or Series through chained assignment using an inplace method.\n",
      "The behavior will change in pandas 3.0. This inplace method will never work because the intermediate object on which we are setting values always behaves as a copy.\n",
      "\n",
      "For example, when doing 'df[col].method(value, inplace=True)', try using 'df.method({col: value}, inplace=True)' or df[col] = df[col].method(value) instead, to perform the operation inplace on the original object.\n",
      "\n",
      "\n",
      "  df['Embarked'].fillna(df['Embarked'].mode()[0], inplace=True)\n"
     ]
    }
   ],
   "source": [
    "# Fill missing 'Age' with median\n",
    "df['Age'].fillna(df['Age'].median(), inplace=True)\n",
    "\n",
    "# Fill missing 'Embarked' with the most common value\n",
    "df['Embarked'].fillna(df['Embarked'].mode()[0], inplace=True)"
   ]
  }
 ],
 "metadata": {
  "kernelspec": {
   "display_name": "Python 3",
   "language": "python",
   "name": "python3"
  },
  "language_info": {
   "codemirror_mode": {
    "name": "ipython",
    "version": 3
   },
   "file_extension": ".py",
   "mimetype": "text/x-python",
   "name": "python",
   "nbconvert_exporter": "python",
   "pygments_lexer": "ipython3",
   "version": "3.13.2"
  }
 },
 "nbformat": 4,
 "nbformat_minor": 5
}
