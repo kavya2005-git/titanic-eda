{
 "cells": [
  {
   "cell_type": "code",
   "execution_count": 2,
   "id": "205e9dcc",
   "metadata": {},
   "outputs": [],
   "source": [
    "import pandas as pd       # for handling dataframes\n",
    "import numpy as np        # for numerical operations\n",
    "import matplotlib.pyplot as plt  # for basic plotting\n",
    "import seaborn as sns     # for beautiful graphs\n",
    "\n",
    "# Set plot style\n",
    "sns.set(style=\"darkgrid\")\n",
    "# Read the CSV file into a DataFrame\n",
    "df = pd.read_csv(\"train.csv\")"
   ]
  },
  {
   "cell_type": "code",
   "execution_count": null,
   "id": "8f5aa717",
   "metadata": {},
   "outputs": [],
   "source": [
    "#Visualize how survival changes with age for males and females separately.\n",
    "plt.figure(figsize=(10,6))\n",
    "sns.kdeplot(df[df['Survived']==1]['Age'], label='Survived', shade=True)\n",
    "sns.kdeplot(df[df['Survived']==0]['Age'], label='Did Not Survive', shade=True)\n",
    "plt.title('Age Distribution by Survival Status')\n",
    "plt.legend()\n",
    "plt.show()"
   ]
  },
  {
   "cell_type": "code",
   "execution_count": null,
   "id": "241b1346",
   "metadata": {},
   "outputs": [],
   "source": [
    "# Survival Rate by Embarkation Port\n",
    "sns.countplot(data=df, x='Embarked', hue='Survived')\n",
    "plt.title(\"Survival Rate by Embarkation Port\")\n",
    "plt.show()"
   ]
  },
  {
   "cell_type": "code",
   "execution_count": null,
   "id": "683ec474",
   "metadata": {},
   "outputs": [],
   "source": [
    "#Family Size Feature + Survival\n",
    "df['FamilySize'] = df['SibSp'] + df['Parch'] + 1\n",
    "sns.barplot(data=df, x='FamilySize', y='Survived')\n",
    "plt.title(\"Survival Rate by Family Size\")\n",
    "plt.show()"
   ]
  },
  {
   "cell_type": "code",
   "execution_count": null,
   "id": "d5c81250",
   "metadata": {},
   "outputs": [],
   "source": [
    "#Title Extraction from Names\n",
    "df['Title'] = df['Name'].str.extract(' ([A-Za-z]+)\\.', expand=False)\n",
    "sns.countplot(data=df, x='Title', hue='Survived')\n",
    "plt.xticks(rotation=45)\n",
    "plt.title(\"Survival Rate by Title\")\n",
    "plt.show()"
   ]
  },
  {
   "cell_type": "code",
   "execution_count": null,
   "id": "b22c4307",
   "metadata": {},
   "outputs": [],
   "source": [
    "#Fare Distribution by Class & Survival\n",
    "sns.boxplot(data=df, x='Pclass', y='Fare', hue='Survived')\n",
    "plt.title(\"Fare Distribution by Class & Survival\")\n",
    "plt.show()"
   ]
  },
  {
   "cell_type": "code",
   "execution_count": null,
   "id": "ef7491f9",
   "metadata": {},
   "outputs": [],
   "source": [
    "#Cabin Information: Was it missing?\n",
    "df['HasCabin'] = df['Cabin'].notnull().astype(int)\n",
    "sns.barplot(data=df, x='HasCabin', y='Survived')\n",
    "plt.title(\"Survival Rate by Cabin Availability\")\n",
    "plt.show()"
   ]
  }
 ],
 "metadata": {
  "kernelspec": {
   "display_name": "Python 3",
   "language": "python",
   "name": "python3"
  },
  "language_info": {
   "codemirror_mode": {
    "name": "ipython",
    "version": 3
   },
   "file_extension": ".py",
   "mimetype": "text/x-python",
   "name": "python",
   "nbconvert_exporter": "python",
   "pygments_lexer": "ipython3",
   "version": "3.13.2"
  }
 },
 "nbformat": 4,
 "nbformat_minor": 5
}
